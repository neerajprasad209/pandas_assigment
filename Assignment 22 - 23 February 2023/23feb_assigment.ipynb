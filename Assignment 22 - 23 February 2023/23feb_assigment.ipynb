{
 "cells": [
  {
   "cell_type": "markdown",
   "id": "2af0834f-7c5b-4b75-8a1b-56b6edea7bf4",
   "metadata": {},
   "source": [
    "# Q1. Create a Pandas Series that contains the following data: 4, 8, 15, 16, 23, and 42. Then, print the series."
   ]
  },
  {
   "cell_type": "code",
   "execution_count": 1,
   "id": "ff146ad6-2d4d-4608-b23c-6e9e60f0b8f4",
   "metadata": {},
   "outputs": [
    {
     "name": "stdout",
     "output_type": "stream",
     "text": [
      "0     4\n",
      "1     8\n",
      "2    15\n",
      "3    16\n",
      "4    23\n",
      "5    42\n",
      "dtype: int64\n"
     ]
    }
   ],
   "source": [
    "import pandas as pd\n",
    "series1 = pd.Series([4,8,15,16,23,42])\n",
    "print(series1)"
   ]
  },
  {
   "cell_type": "markdown",
   "id": "3e9647d7-8c13-4d7d-849b-d4aeeb37f5a5",
   "metadata": {},
   "source": [
    "# Q2. Create a variable of list type containing 10 elements in it, and apply pandas.Series function on the variable print it."
   ]
  },
  {
   "cell_type": "code",
   "execution_count": 2,
   "id": "252413b7-9d68-4044-bbbb-9e03b1ad5f00",
   "metadata": {},
   "outputs": [
    {
     "name": "stdout",
     "output_type": "stream",
     "text": [
      "[1, 4, 9, 16, 25, 36, 49, 64, 81, 100]\n"
     ]
    }
   ],
   "source": [
    "# Creating a list contain square for first 10 Natural numbers\n",
    "l2 = [(i+1)**2 for i in range(10)]\n",
    "print(l2)"
   ]
  },
  {
   "cell_type": "code",
   "execution_count": 3,
   "id": "90fac18a-4aa2-45f9-ae0c-6e435eec1e1d",
   "metadata": {},
   "outputs": [
    {
     "name": "stdout",
     "output_type": "stream",
     "text": [
      "0      1\n",
      "1      4\n",
      "2      9\n",
      "3     16\n",
      "4     25\n",
      "5     36\n",
      "6     49\n",
      "7     64\n",
      "8     81\n",
      "9    100\n",
      "dtype: int64\n"
     ]
    }
   ],
   "source": [
    "# Creating Pandas Series for above list\n",
    "series2 = pd.Series(l2)\n",
    "print(series2)"
   ]
  },
  {
   "cell_type": "markdown",
   "id": "42e96067-c1ee-4c49-b73c-5dfc0f178629",
   "metadata": {},
   "source": [
    "# Q3. Create a Pandas DataFrame that contains the following data:\n",
    "|Name  |Age  |Gender|\n",
    "|:----:|:---:|:----:|\n",
    "|Alice |25   |Female|\n",
    "|Bob   |30   |Male  |\n",
    "|Claire|27   |Female|\n",
    "\n",
    "## Then Print the DataFrame"
   ]
  },
  {
   "cell_type": "code",
   "execution_count": 6,
   "id": "e0118b49-64a3-41f3-a52e-af9584627abb",
   "metadata": {},
   "outputs": [],
   "source": [
    "# Creating a dictionary with 'Name', 'Age' and 'Gender' as Key and rows as list in values\n",
    "dct3 = {\n",
    "    'Name':['John','Bill','Claire'],\n",
    "    'Age':[25,30,27],\n",
    "    'Gender':['Male','Male','Female']\n",
    "}"
   ]
  },
  {
   "cell_type": "code",
   "execution_count": 7,
   "id": "f7ad821f-fffa-4840-96d5-e28cd8d79196",
   "metadata": {},
   "outputs": [
    {
     "data": {
      "text/html": [
       "<div>\n",
       "<style scoped>\n",
       "    .dataframe tbody tr th:only-of-type {\n",
       "        vertical-align: middle;\n",
       "    }\n",
       "\n",
       "    .dataframe tbody tr th {\n",
       "        vertical-align: top;\n",
       "    }\n",
       "\n",
       "    .dataframe thead th {\n",
       "        text-align: right;\n",
       "    }\n",
       "</style>\n",
       "<table border=\"1\" class=\"dataframe\">\n",
       "  <thead>\n",
       "    <tr style=\"text-align: right;\">\n",
       "      <th></th>\n",
       "      <th>Name</th>\n",
       "      <th>Age</th>\n",
       "      <th>Gender</th>\n",
       "    </tr>\n",
       "  </thead>\n",
       "  <tbody>\n",
       "    <tr>\n",
       "      <th>0</th>\n",
       "      <td>John</td>\n",
       "      <td>25</td>\n",
       "      <td>Male</td>\n",
       "    </tr>\n",
       "    <tr>\n",
       "      <th>1</th>\n",
       "      <td>Bill</td>\n",
       "      <td>30</td>\n",
       "      <td>Male</td>\n",
       "    </tr>\n",
       "    <tr>\n",
       "      <th>2</th>\n",
       "      <td>Claire</td>\n",
       "      <td>27</td>\n",
       "      <td>Female</td>\n",
       "    </tr>\n",
       "  </tbody>\n",
       "</table>\n",
       "</div>"
      ],
      "text/plain": [
       "     Name  Age  Gender\n",
       "0    John   25    Male\n",
       "1    Bill   30    Male\n",
       "2  Claire   27  Female"
      ]
     },
     "execution_count": 7,
     "metadata": {},
     "output_type": "execute_result"
    }
   ],
   "source": [
    "# Converting Dictionary to DataFrame\n",
    "df3 = pd.DataFrame(dct3)\n",
    "df3"
   ]
  },
  {
   "cell_type": "markdown",
   "id": "f79f4df3-aa68-49d9-a2dd-fa0a86c4122a",
   "metadata": {},
   "source": [
    "# Q4. What is ‘DataFrame’ in pandas and how is it different from pandas.series? Explain with an example."
   ]
  },
  {
   "cell_type": "markdown",
   "id": "41d2af3e-27b2-48a2-935a-dbcbf7fb3163",
   "metadata": {},
   "source": [
    "## Answer:\n",
    "\n",
    "### A DataFrame in pandas is a two-dimensional labeled data structure with columns of potentially different types. It is similar to a spreadsheet or a SQL table, where data is organized in rows and columns. Each column can contain a different type of data, such as numbers, strings, or dates.\n",
    "\n",
    "### On the other hand, a pandas Series is a one-dimensional labeled array that can contain data of any type, such as integers, strings, or booleans. It is similar to a column in a DataFrame."
   ]
  },
  {
   "cell_type": "markdown",
   "id": "5ba85512-cc82-465d-ac1e-ac99bc631a31",
   "metadata": {},
   "source": [
    "### Below is Example of a Pandas DataFrame which is 2 dimensional in nature \n"
   ]
  },
  {
   "cell_type": "code",
   "execution_count": 10,
   "id": "4a74fcd7-d853-49b4-8954-f98c9abd147f",
   "metadata": {},
   "outputs": [
    {
     "data": {
      "text/html": [
       "<div>\n",
       "<style scoped>\n",
       "    .dataframe tbody tr th:only-of-type {\n",
       "        vertical-align: middle;\n",
       "    }\n",
       "\n",
       "    .dataframe tbody tr th {\n",
       "        vertical-align: top;\n",
       "    }\n",
       "\n",
       "    .dataframe thead th {\n",
       "        text-align: right;\n",
       "    }\n",
       "</style>\n",
       "<table border=\"1\" class=\"dataframe\">\n",
       "  <thead>\n",
       "    <tr style=\"text-align: right;\">\n",
       "      <th></th>\n",
       "      <th>emp_id</th>\n",
       "      <th>name</th>\n",
       "      <th>dept</th>\n",
       "      <th>email</th>\n",
       "      <th>favourite_subject</th>\n",
       "    </tr>\n",
       "  </thead>\n",
       "  <tbody>\n",
       "    <tr>\n",
       "      <th>0</th>\n",
       "      <td>100</td>\n",
       "      <td>Neeraj</td>\n",
       "      <td>ML Engineer</td>\n",
       "      <td>neeraj@test.com</td>\n",
       "      <td>Calculus</td>\n",
       "    </tr>\n",
       "    <tr>\n",
       "      <th>1</th>\n",
       "      <td>101</td>\n",
       "      <td>Krish</td>\n",
       "      <td>DevOps</td>\n",
       "      <td>krish@test.com</td>\n",
       "      <td>Statistics</td>\n",
       "    </tr>\n",
       "    <tr>\n",
       "      <th>2</th>\n",
       "      <td>102</td>\n",
       "      <td>Sudh</td>\n",
       "      <td>Testing</td>\n",
       "      <td>sudh@test.com</td>\n",
       "      <td>Six Sigma</td>\n",
       "    </tr>\n",
       "  </tbody>\n",
       "</table>\n",
       "</div>"
      ],
      "text/plain": [
       "   emp_id    name         dept            email favourite_subject\n",
       "0     100  Neeraj  ML Engineer  neeraj@test.com          Calculus\n",
       "1     101   Krish       DevOps   krish@test.com        Statistics\n",
       "2     102    Sudh      Testing    sudh@test.com         Six Sigma"
      ]
     },
     "execution_count": 10,
     "metadata": {},
     "output_type": "execute_result"
    }
   ],
   "source": [
    "# Dictionary for pandas DataFrame\n",
    "dct4 = {\n",
    "    'emp_id':[100,101,102],\n",
    "    'name':['Neeraj','Krish','Sudh'],\n",
    "    'dept':['ML Engineer','DevOps','Testing'],\n",
    "    'email':['neeraj@test.com','krish@test.com','sudh@test.com'],\n",
    "    'favourite_subject':['Calculus','Statistics','Six Sigma']\n",
    "}\n",
    "\n",
    "df4 = pd.DataFrame(dct4)\n",
    "df4"
   ]
  },
  {
   "cell_type": "code",
   "execution_count": 11,
   "id": "6f0ed5a4-2bef-4c6f-8e4c-c77b267401e1",
   "metadata": {},
   "outputs": [
    {
     "data": {
      "text/plain": [
       "pandas.core.frame.DataFrame"
      ]
     },
     "execution_count": 11,
     "metadata": {},
     "output_type": "execute_result"
    }
   ],
   "source": [
    "type(df4)"
   ]
  },
  {
   "cell_type": "markdown",
   "id": "877e1de0-bef3-4fe0-bbfa-5df7643f612f",
   "metadata": {},
   "source": [
    "### Example of Series below . I have Selected dept column to show as series"
   ]
  },
  {
   "cell_type": "code",
   "execution_count": 12,
   "id": "9f4d0f22-f82e-49a3-b81d-aa9a9c706573",
   "metadata": {},
   "outputs": [
    {
     "name": "stdout",
     "output_type": "stream",
     "text": [
      "0    ML Engineer\n",
      "1         DevOps\n",
      "2        Testing\n",
      "Name: dept, dtype: object\n"
     ]
    }
   ],
   "source": [
    "series4 = df4['dept']\n",
    "print(series4)"
   ]
  },
  {
   "cell_type": "code",
   "execution_count": 13,
   "id": "0b6fb47f-ea25-44f4-8f40-05870ef45a45",
   "metadata": {},
   "outputs": [
    {
     "data": {
      "text/plain": [
       "pandas.core.series.Series"
      ]
     },
     "execution_count": 13,
     "metadata": {},
     "output_type": "execute_result"
    }
   ],
   "source": [
    "type(series4)"
   ]
  },
  {
   "cell_type": "markdown",
   "id": "76fb4fd8-b56e-4e7e-9c46-dffdabb5a23c",
   "metadata": {},
   "source": [
    "# Q5. What are some common functions you can use to manipulate data in a Pandas DataFrame? Can you give an example of when you might use one of these functions?"
   ]
  },
  {
   "cell_type": "markdown",
   "id": "1bbceff0-6f65-426a-b0ca-9093346420da",
   "metadata": {},
   "source": [
    "### Creating a sample DataFrame to work with"
   ]
  },
  {
   "cell_type": "code",
   "execution_count": 14,
   "id": "b0545aee-9426-461c-a50a-29d22c7da945",
   "metadata": {},
   "outputs": [
    {
     "data": {
      "text/html": [
       "<div>\n",
       "<style scoped>\n",
       "    .dataframe tbody tr th:only-of-type {\n",
       "        vertical-align: middle;\n",
       "    }\n",
       "\n",
       "    .dataframe tbody tr th {\n",
       "        vertical-align: top;\n",
       "    }\n",
       "\n",
       "    .dataframe thead th {\n",
       "        text-align: right;\n",
       "    }\n",
       "</style>\n",
       "<table border=\"1\" class=\"dataframe\">\n",
       "  <thead>\n",
       "    <tr style=\"text-align: right;\">\n",
       "      <th></th>\n",
       "      <th>name</th>\n",
       "      <th>age</th>\n",
       "      <th>city</th>\n",
       "      <th>category</th>\n",
       "      <th>sales</th>\n",
       "      <th>date</th>\n",
       "    </tr>\n",
       "  </thead>\n",
       "  <tbody>\n",
       "    <tr>\n",
       "      <th>0</th>\n",
       "      <td>Neeraj</td>\n",
       "      <td>25.0</td>\n",
       "      <td>Pune</td>\n",
       "      <td>A</td>\n",
       "      <td>400</td>\n",
       "      <td>2022-01-01</td>\n",
       "    </tr>\n",
       "    <tr>\n",
       "      <th>1</th>\n",
       "      <td>Diksha</td>\n",
       "      <td>30.0</td>\n",
       "      <td>Mumbai</td>\n",
       "      <td>B</td>\n",
       "      <td>200</td>\n",
       "      <td>2022-01-02</td>\n",
       "    </tr>\n",
       "    <tr>\n",
       "      <th>2</th>\n",
       "      <td>Alka</td>\n",
       "      <td>NaN</td>\n",
       "      <td>Delhi</td>\n",
       "      <td>A</td>\n",
       "      <td>250</td>\n",
       "      <td>2022-01-03</td>\n",
       "    </tr>\n",
       "    <tr>\n",
       "      <th>3</th>\n",
       "      <td>Krish</td>\n",
       "      <td>40.0</td>\n",
       "      <td>None</td>\n",
       "      <td>B</td>\n",
       "      <td>150</td>\n",
       "      <td>2022-01-04</td>\n",
       "    </tr>\n",
       "    <tr>\n",
       "      <th>4</th>\n",
       "      <td>Sudh</td>\n",
       "      <td>35.0</td>\n",
       "      <td>Banaras</td>\n",
       "      <td>A</td>\n",
       "      <td>450</td>\n",
       "      <td>2022-01-05</td>\n",
       "    </tr>\n",
       "  </tbody>\n",
       "</table>\n",
       "</div>"
      ],
      "text/plain": [
       "     name   age     city category  sales        date\n",
       "0  Neeraj  25.0     Pune        A    400  2022-01-01\n",
       "1  Diksha  30.0   Mumbai        B    200  2022-01-02\n",
       "2    Alka   NaN    Delhi        A    250  2022-01-03\n",
       "3   Krish  40.0     None        B    150  2022-01-04\n",
       "4    Sudh  35.0  Banaras        A    450  2022-01-05"
      ]
     },
     "execution_count": 14,
     "metadata": {},
     "output_type": "execute_result"
    }
   ],
   "source": [
    "# create sample dataframe with missing values\n",
    "data5 = {'name': ['Neeraj', 'Diksha', 'Alka', 'Krish', 'Sudh'],\n",
    "        'age': [25, 30, None, 40, 35],\n",
    "        'city': ['Pune', 'Mumbai', 'Delhi', None, 'Banaras'],\n",
    "        'category': ['A', 'B', 'A', 'B', 'A'],\n",
    "        'sales': [400, 200, 250, 150, 450],\n",
    "        'date': ['2022-01-01', '2022-01-02', '2022-01-03', '2022-01-04', '2022-01-05']}\n",
    "df5 = pd.DataFrame(data5)\n",
    "df5"
   ]
  },
  {
   "cell_type": "markdown",
   "id": "61208f3a-caf5-4fad-a716-add50270de27",
   "metadata": {},
   "source": [
    "### 1. dropna(): Removes any row with missing values."
   ]
  },
  {
   "cell_type": "code",
   "execution_count": 15,
   "id": "36979bea-38ae-4759-ad05-ee8eac29c0d6",
   "metadata": {},
   "outputs": [
    {
     "data": {
      "text/html": [
       "<div>\n",
       "<style scoped>\n",
       "    .dataframe tbody tr th:only-of-type {\n",
       "        vertical-align: middle;\n",
       "    }\n",
       "\n",
       "    .dataframe tbody tr th {\n",
       "        vertical-align: top;\n",
       "    }\n",
       "\n",
       "    .dataframe thead th {\n",
       "        text-align: right;\n",
       "    }\n",
       "</style>\n",
       "<table border=\"1\" class=\"dataframe\">\n",
       "  <thead>\n",
       "    <tr style=\"text-align: right;\">\n",
       "      <th></th>\n",
       "      <th>name</th>\n",
       "      <th>age</th>\n",
       "      <th>city</th>\n",
       "      <th>category</th>\n",
       "      <th>sales</th>\n",
       "      <th>date</th>\n",
       "    </tr>\n",
       "  </thead>\n",
       "  <tbody>\n",
       "    <tr>\n",
       "      <th>0</th>\n",
       "      <td>Neeraj</td>\n",
       "      <td>25.0</td>\n",
       "      <td>Pune</td>\n",
       "      <td>A</td>\n",
       "      <td>400</td>\n",
       "      <td>2022-01-01</td>\n",
       "    </tr>\n",
       "    <tr>\n",
       "      <th>1</th>\n",
       "      <td>Diksha</td>\n",
       "      <td>30.0</td>\n",
       "      <td>Mumbai</td>\n",
       "      <td>B</td>\n",
       "      <td>200</td>\n",
       "      <td>2022-01-02</td>\n",
       "    </tr>\n",
       "    <tr>\n",
       "      <th>4</th>\n",
       "      <td>Sudh</td>\n",
       "      <td>35.0</td>\n",
       "      <td>Banaras</td>\n",
       "      <td>A</td>\n",
       "      <td>450</td>\n",
       "      <td>2022-01-05</td>\n",
       "    </tr>\n",
       "  </tbody>\n",
       "</table>\n",
       "</div>"
      ],
      "text/plain": [
       "     name   age     city category  sales        date\n",
       "0  Neeraj  25.0     Pune        A    400  2022-01-01\n",
       "1  Diksha  30.0   Mumbai        B    200  2022-01-02\n",
       "4    Sudh  35.0  Banaras        A    450  2022-01-05"
      ]
     },
     "execution_count": 15,
     "metadata": {},
     "output_type": "execute_result"
    }
   ],
   "source": [
    "dropped_df5 = df5.dropna(axis=0)\n",
    "dropped_df5"
   ]
  },
  {
   "cell_type": "markdown",
   "id": "28d4dd7b-7dee-4864-af3f-7d500e03b363",
   "metadata": {},
   "source": [
    "### 2. fillna(): Fills missing values with a specified value or method."
   ]
  },
  {
   "cell_type": "code",
   "execution_count": 16,
   "id": "95a0c5b9-d753-4f3c-a78a-8efe322fd807",
   "metadata": {},
   "outputs": [
    {
     "data": {
      "text/html": [
       "<div>\n",
       "<style scoped>\n",
       "    .dataframe tbody tr th:only-of-type {\n",
       "        vertical-align: middle;\n",
       "    }\n",
       "\n",
       "    .dataframe tbody tr th {\n",
       "        vertical-align: top;\n",
       "    }\n",
       "\n",
       "    .dataframe thead th {\n",
       "        text-align: right;\n",
       "    }\n",
       "</style>\n",
       "<table border=\"1\" class=\"dataframe\">\n",
       "  <thead>\n",
       "    <tr style=\"text-align: right;\">\n",
       "      <th></th>\n",
       "      <th>name</th>\n",
       "      <th>age</th>\n",
       "      <th>city</th>\n",
       "      <th>category</th>\n",
       "      <th>sales</th>\n",
       "      <th>date</th>\n",
       "    </tr>\n",
       "  </thead>\n",
       "  <tbody>\n",
       "    <tr>\n",
       "      <th>0</th>\n",
       "      <td>Neeraj</td>\n",
       "      <td>25.0</td>\n",
       "      <td>Pune</td>\n",
       "      <td>A</td>\n",
       "      <td>400</td>\n",
       "      <td>2022-01-01</td>\n",
       "    </tr>\n",
       "    <tr>\n",
       "      <th>1</th>\n",
       "      <td>Diksha</td>\n",
       "      <td>30.0</td>\n",
       "      <td>Mumbai</td>\n",
       "      <td>B</td>\n",
       "      <td>200</td>\n",
       "      <td>2022-01-02</td>\n",
       "    </tr>\n",
       "    <tr>\n",
       "      <th>2</th>\n",
       "      <td>Alka</td>\n",
       "      <td>0.0</td>\n",
       "      <td>Delhi</td>\n",
       "      <td>A</td>\n",
       "      <td>250</td>\n",
       "      <td>2022-01-03</td>\n",
       "    </tr>\n",
       "    <tr>\n",
       "      <th>3</th>\n",
       "      <td>Krish</td>\n",
       "      <td>40.0</td>\n",
       "      <td>0</td>\n",
       "      <td>B</td>\n",
       "      <td>150</td>\n",
       "      <td>2022-01-04</td>\n",
       "    </tr>\n",
       "    <tr>\n",
       "      <th>4</th>\n",
       "      <td>Sudh</td>\n",
       "      <td>35.0</td>\n",
       "      <td>Banaras</td>\n",
       "      <td>A</td>\n",
       "      <td>450</td>\n",
       "      <td>2022-01-05</td>\n",
       "    </tr>\n",
       "  </tbody>\n",
       "</table>\n",
       "</div>"
      ],
      "text/plain": [
       "     name   age     city category  sales        date\n",
       "0  Neeraj  25.0     Pune        A    400  2022-01-01\n",
       "1  Diksha  30.0   Mumbai        B    200  2022-01-02\n",
       "2    Alka   0.0    Delhi        A    250  2022-01-03\n",
       "3   Krish  40.0        0        B    150  2022-01-04\n",
       "4    Sudh  35.0  Banaras        A    450  2022-01-05"
      ]
     },
     "execution_count": 16,
     "metadata": {},
     "output_type": "execute_result"
    }
   ],
   "source": [
    "filled_df5 = df5.fillna(0)\n",
    "filled_df5"
   ]
  },
  {
   "cell_type": "markdown",
   "id": "c3c77e7a-88fa-4383-820e-1633309d10ea",
   "metadata": {},
   "source": [
    "### 3. groupby(): Groups the DataFrame by one or more columns and allows for aggregation of the data."
   ]
  },
  {
   "cell_type": "code",
   "execution_count": 17,
   "id": "375c578c-0b08-4b1b-b220-ff7361318f11",
   "metadata": {},
   "outputs": [
    {
     "data": {
      "text/html": [
       "<div>\n",
       "<style scoped>\n",
       "    .dataframe tbody tr th:only-of-type {\n",
       "        vertical-align: middle;\n",
       "    }\n",
       "\n",
       "    .dataframe tbody tr th {\n",
       "        vertical-align: top;\n",
       "    }\n",
       "\n",
       "    .dataframe thead th {\n",
       "        text-align: right;\n",
       "    }\n",
       "</style>\n",
       "<table border=\"1\" class=\"dataframe\">\n",
       "  <thead>\n",
       "    <tr style=\"text-align: right;\">\n",
       "      <th></th>\n",
       "      <th>age</th>\n",
       "      <th>sales</th>\n",
       "    </tr>\n",
       "    <tr>\n",
       "      <th>category</th>\n",
       "      <th></th>\n",
       "      <th></th>\n",
       "    </tr>\n",
       "  </thead>\n",
       "  <tbody>\n",
       "    <tr>\n",
       "      <th>A</th>\n",
       "      <td>30.0</td>\n",
       "      <td>366.666667</td>\n",
       "    </tr>\n",
       "    <tr>\n",
       "      <th>B</th>\n",
       "      <td>35.0</td>\n",
       "      <td>175.000000</td>\n",
       "    </tr>\n",
       "  </tbody>\n",
       "</table>\n",
       "</div>"
      ],
      "text/plain": [
       "           age       sales\n",
       "category                  \n",
       "A         30.0  366.666667\n",
       "B         35.0  175.000000"
      ]
     },
     "execution_count": 17,
     "metadata": {},
     "output_type": "execute_result"
    }
   ],
   "source": [
    "sales_mean = df5.groupby('category').mean(numeric_only=True)\n",
    "sales_mean"
   ]
  },
  {
   "cell_type": "markdown",
   "id": "dcc823e8-b070-47f8-ae3c-d4c3c82afd79",
   "metadata": {},
   "source": [
    "### 4. sort_values(): Sorts the DataFrame by one or more columns."
   ]
  },
  {
   "cell_type": "code",
   "execution_count": 18,
   "id": "8fb9517e-a075-4ba1-a7a6-945bd4fc8335",
   "metadata": {},
   "outputs": [
    {
     "data": {
      "text/html": [
       "<div>\n",
       "<style scoped>\n",
       "    .dataframe tbody tr th:only-of-type {\n",
       "        vertical-align: middle;\n",
       "    }\n",
       "\n",
       "    .dataframe tbody tr th {\n",
       "        vertical-align: top;\n",
       "    }\n",
       "\n",
       "    .dataframe thead th {\n",
       "        text-align: right;\n",
       "    }\n",
       "</style>\n",
       "<table border=\"1\" class=\"dataframe\">\n",
       "  <thead>\n",
       "    <tr style=\"text-align: right;\">\n",
       "      <th></th>\n",
       "      <th>name</th>\n",
       "      <th>age</th>\n",
       "      <th>city</th>\n",
       "      <th>category</th>\n",
       "      <th>sales</th>\n",
       "      <th>date</th>\n",
       "    </tr>\n",
       "  </thead>\n",
       "  <tbody>\n",
       "    <tr>\n",
       "      <th>4</th>\n",
       "      <td>Sudh</td>\n",
       "      <td>35.0</td>\n",
       "      <td>Banaras</td>\n",
       "      <td>A</td>\n",
       "      <td>450</td>\n",
       "      <td>2022-01-05</td>\n",
       "    </tr>\n",
       "    <tr>\n",
       "      <th>0</th>\n",
       "      <td>Neeraj</td>\n",
       "      <td>25.0</td>\n",
       "      <td>Pune</td>\n",
       "      <td>A</td>\n",
       "      <td>400</td>\n",
       "      <td>2022-01-01</td>\n",
       "    </tr>\n",
       "    <tr>\n",
       "      <th>2</th>\n",
       "      <td>Alka</td>\n",
       "      <td>NaN</td>\n",
       "      <td>Delhi</td>\n",
       "      <td>A</td>\n",
       "      <td>250</td>\n",
       "      <td>2022-01-03</td>\n",
       "    </tr>\n",
       "    <tr>\n",
       "      <th>1</th>\n",
       "      <td>Diksha</td>\n",
       "      <td>30.0</td>\n",
       "      <td>Mumbai</td>\n",
       "      <td>B</td>\n",
       "      <td>200</td>\n",
       "      <td>2022-01-02</td>\n",
       "    </tr>\n",
       "    <tr>\n",
       "      <th>3</th>\n",
       "      <td>Krish</td>\n",
       "      <td>40.0</td>\n",
       "      <td>None</td>\n",
       "      <td>B</td>\n",
       "      <td>150</td>\n",
       "      <td>2022-01-04</td>\n",
       "    </tr>\n",
       "  </tbody>\n",
       "</table>\n",
       "</div>"
      ],
      "text/plain": [
       "     name   age     city category  sales        date\n",
       "4    Sudh  35.0  Banaras        A    450  2022-01-05\n",
       "0  Neeraj  25.0     Pune        A    400  2022-01-01\n",
       "2    Alka   NaN    Delhi        A    250  2022-01-03\n",
       "1  Diksha  30.0   Mumbai        B    200  2022-01-02\n",
       "3   Krish  40.0     None        B    150  2022-01-04"
      ]
     },
     "execution_count": 18,
     "metadata": {},
     "output_type": "execute_result"
    }
   ],
   "source": [
    "# Sorting by Sales in descending order\n",
    "df5.sort_values(by='sales',ascending=False)"
   ]
  },
  {
   "cell_type": "markdown",
   "id": "98b3803e-06c1-4d03-998b-9f9d58e5c96e",
   "metadata": {},
   "source": [
    "# Q6. Which of the following is mutable in nature Series, DataFrame, Panel?"
   ]
  },
  {
   "cell_type": "markdown",
   "id": "2eff9bf9-4e66-4b0a-8c69-d65459916da6",
   "metadata": {},
   "source": [
    "## Answer:\n",
    "\n",
    "### In pandas, Series and DataFrame are mutable in nature.\n",
    "\n",
    "### Panel is considered immutable.\n",
    "\n",
    "### That means, Series and DataFrame objects can be modified after they are created, and any changes made to them will be reflected in the original objects. On the other hand, Panel objects are generally not modified once created, and any changes made to them usually result in the creation of a new object.\n",
    "\n",
    "### Note that while Series and DataFrame objects are mutable, it is generally recommended to avoid modifying them in place, as this can lead to unexpected results and errors. Instead, it is often better to create a new object with the desired modifications."
   ]
  },
  {
   "cell_type": "markdown",
   "id": "3ac11d02-ef0f-402e-aa27-b7396592234a",
   "metadata": {},
   "source": [
    "# Q7. Create a DataFrame using multiple Series. Explain with an example."
   ]
  },
  {
   "cell_type": "markdown",
   "id": "a19e4a4f-1af5-43d3-9d6b-67d214d20903",
   "metadata": {},
   "source": [
    "## Answer:\n",
    "\n",
    "### By using concat() method you can merge multiple series together into DataFrame. This takes several params, for our scenario we use list that takes series to combine and axis=1 to specify merge series as columns instead of rows. Note that using axis=0 appends series to rows instead of columns."
   ]
  },
  {
   "cell_type": "code",
   "execution_count": 20,
   "id": "4f254ce9-1e3c-4c3e-9fa6-538574bd4ec4",
   "metadata": {},
   "outputs": [
    {
     "data": {
      "text/html": [
       "<div>\n",
       "<style scoped>\n",
       "    .dataframe tbody tr th:only-of-type {\n",
       "        vertical-align: middle;\n",
       "    }\n",
       "\n",
       "    .dataframe tbody tr th {\n",
       "        vertical-align: top;\n",
       "    }\n",
       "\n",
       "    .dataframe thead th {\n",
       "        text-align: right;\n",
       "    }\n",
       "</style>\n",
       "<table border=\"1\" class=\"dataframe\">\n",
       "  <thead>\n",
       "    <tr style=\"text-align: right;\">\n",
       "      <th></th>\n",
       "      <th>course</th>\n",
       "      <th>fees</th>\n",
       "      <th>discount</th>\n",
       "    </tr>\n",
       "  </thead>\n",
       "  <tbody>\n",
       "    <tr>\n",
       "      <th>0</th>\n",
       "      <td>Data Science Masters</td>\n",
       "      <td>7000</td>\n",
       "      <td>3500</td>\n",
       "    </tr>\n",
       "    <tr>\n",
       "      <th>1</th>\n",
       "      <td>Java with DSA</td>\n",
       "      <td>7500</td>\n",
       "      <td>3000</td>\n",
       "    </tr>\n",
       "    <tr>\n",
       "      <th>2</th>\n",
       "      <td>Full Stack Web Development</td>\n",
       "      <td>8000</td>\n",
       "      <td>2500</td>\n",
       "    </tr>\n",
       "  </tbody>\n",
       "</table>\n",
       "</div>"
      ],
      "text/plain": [
       "                       course  fees  discount\n",
       "0        Data Science Masters  7000      3500\n",
       "1               Java with DSA  7500      3000\n",
       "2  Full Stack Web Development  8000      2500"
      ]
     },
     "execution_count": 20,
     "metadata": {},
     "output_type": "execute_result"
    }
   ],
   "source": [
    "import pandas as pd\n",
    "# Create pandas Series\n",
    "courses = pd.Series([\"Data Science Masters\",\"Java with DSA\",\"Full Stack Web Development\"])\n",
    "fees = pd.Series([7000,7500,8000])\n",
    "discount  = pd.Series([3500,3000,2500])\n",
    "\n",
    "# concat() supports to combine multiple series.\n",
    "df7=pd.concat([courses,fees,discount],axis=1)\n",
    "df7.columns = ['course','fees','discount']\n",
    "df7"
   ]
  },
  {
   "cell_type": "code",
   "execution_count": null,
   "id": "dcda3e04-c4a0-48d4-be83-b43a07cf7fbc",
   "metadata": {},
   "outputs": [],
   "source": []
  }
 ],
 "metadata": {
  "kernelspec": {
   "display_name": "Python 3 (ipykernel)",
   "language": "python",
   "name": "python3"
  },
  "language_info": {
   "codemirror_mode": {
    "name": "ipython",
    "version": 3
   },
   "file_extension": ".py",
   "mimetype": "text/x-python",
   "name": "python",
   "nbconvert_exporter": "python",
   "pygments_lexer": "ipython3",
   "version": "3.10.8"
  }
 },
 "nbformat": 4,
 "nbformat_minor": 5
}
